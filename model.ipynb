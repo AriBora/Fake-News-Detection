{
 "cells": [
  {
   "cell_type": "code",
   "execution_count": 1,
   "metadata": {},
   "outputs": [],
   "source": [
    "import numpy as np\n",
    "import pandas as pd"
   ]
  },
  {
   "cell_type": "code",
   "execution_count": 6,
   "metadata": {},
   "outputs": [
    {
     "data": {
      "text/html": [
       "<div>\n",
       "<style scoped>\n",
       "    .dataframe tbody tr th:only-of-type {\n",
       "        vertical-align: middle;\n",
       "    }\n",
       "\n",
       "    .dataframe tbody tr th {\n",
       "        vertical-align: top;\n",
       "    }\n",
       "\n",
       "    .dataframe thead th {\n",
       "        text-align: right;\n",
       "    }\n",
       "</style>\n",
       "<table border=\"1\" class=\"dataframe\">\n",
       "  <thead>\n",
       "    <tr style=\"text-align: right;\">\n",
       "      <th></th>\n",
       "      <th>id</th>\n",
       "      <th>claim</th>\n",
       "      <th>label</th>\n",
       "      <th>evidence</th>\n",
       "      <th>annotator_operations</th>\n",
       "      <th>challenge</th>\n",
       "    </tr>\n",
       "  </thead>\n",
       "  <tbody>\n",
       "    <tr>\n",
       "      <th>0</th>\n",
       "      <td></td>\n",
       "      <td></td>\n",
       "      <td></td>\n",
       "      <td></td>\n",
       "      <td></td>\n",
       "      <td></td>\n",
       "    </tr>\n",
       "    <tr>\n",
       "      <th>1</th>\n",
       "      <td>24435</td>\n",
       "      <td>Michael Folivi competed with ten teams from 20...</td>\n",
       "      <td>REFUTES</td>\n",
       "      <td>[{'content': ['Michael Folivi_cell_1_2_0', 'Mi...</td>\n",
       "      <td>[{'operation': 'start', 'value': 'start', 'tim...</td>\n",
       "      <td>Numerical Reasoning</td>\n",
       "    </tr>\n",
       "    <tr>\n",
       "      <th>2</th>\n",
       "      <td>14802</td>\n",
       "      <td>Asiatic Society of Bangladesh(housed in Nimtal...</td>\n",
       "      <td>SUPPORTS</td>\n",
       "      <td>[{'content': ['Asiatic Society of Bangladesh_s...</td>\n",
       "      <td>[{'operation': 'start', 'value': 'start', 'tim...</td>\n",
       "      <td>Other</td>\n",
       "    </tr>\n",
       "    <tr>\n",
       "      <th>3</th>\n",
       "      <td>28540</td>\n",
       "      <td>Lindfield railway station has 3 bus routes, in...</td>\n",
       "      <td>SUPPORTS</td>\n",
       "      <td>[{'content': ['Lindfield railway station_sente...</td>\n",
       "      <td>[{'operation': 'start', 'value': 'start', 'tim...</td>\n",
       "      <td>Other</td>\n",
       "    </tr>\n",
       "    <tr>\n",
       "      <th>4</th>\n",
       "      <td>71874</td>\n",
       "      <td>Mukaradeeb('Wolf's Den') is a city in Iraq nea...</td>\n",
       "      <td>SUPPORTS</td>\n",
       "      <td>[{'content': ['Mukaradeeb_sentence_1', 'Mukara...</td>\n",
       "      <td>[{'operation': 'start', 'value': 'start', 'tim...</td>\n",
       "      <td>Combining Tables and Text</td>\n",
       "    </tr>\n",
       "  </tbody>\n",
       "</table>\n",
       "</div>"
      ],
      "text/plain": [
       "      id                                              claim     label  \\\n",
       "0                                                                       \n",
       "1  24435  Michael Folivi competed with ten teams from 20...   REFUTES   \n",
       "2  14802  Asiatic Society of Bangladesh(housed in Nimtal...  SUPPORTS   \n",
       "3  28540  Lindfield railway station has 3 bus routes, in...  SUPPORTS   \n",
       "4  71874  Mukaradeeb('Wolf's Den') is a city in Iraq nea...  SUPPORTS   \n",
       "\n",
       "                                            evidence  \\\n",
       "0                                                      \n",
       "1  [{'content': ['Michael Folivi_cell_1_2_0', 'Mi...   \n",
       "2  [{'content': ['Asiatic Society of Bangladesh_s...   \n",
       "3  [{'content': ['Lindfield railway station_sente...   \n",
       "4  [{'content': ['Mukaradeeb_sentence_1', 'Mukara...   \n",
       "\n",
       "                                annotator_operations  \\\n",
       "0                                                      \n",
       "1  [{'operation': 'start', 'value': 'start', 'tim...   \n",
       "2  [{'operation': 'start', 'value': 'start', 'tim...   \n",
       "3  [{'operation': 'start', 'value': 'start', 'tim...   \n",
       "4  [{'operation': 'start', 'value': 'start', 'tim...   \n",
       "\n",
       "                   challenge  \n",
       "0                             \n",
       "1        Numerical Reasoning  \n",
       "2                      Other  \n",
       "3                      Other  \n",
       "4  Combining Tables and Text  "
      ]
     },
     "execution_count": 6,
     "metadata": {},
     "output_type": "execute_result"
    }
   ],
   "source": [
    "df = pd.read_json(\"/home/arbas19/Downloads/feverous_train_challenges.jsonl\",lines=True)\n",
    "df.head()"
   ]
  },
  {
   "cell_type": "code",
   "execution_count": 19,
   "metadata": {},
   "outputs": [
    {
     "data": {
      "text/plain": [
       "'Michael Folivi competed with ten teams from 2016 to 2021, appearing in 54 games and making seven goals in total.'"
      ]
     },
     "execution_count": 19,
     "metadata": {},
     "output_type": "execute_result"
    }
   ],
   "source": [
    "df['claim'][1]"
   ]
  },
  {
   "cell_type": "code",
   "execution_count": null,
   "metadata": {},
   "outputs": [],
   "source": [
    "\n",
    "\n",
    "\n",
    "#To replicate the paper, download paper_dev and paper_test files. These are concatenated for the shared task\n",
    "\n",
    "wget -O data/fever-data/dev.jsonl https://s3-eu-west-1.amazonaws.com/fever.public/paper_dev.jsonl\n",
    "wget -O data/fever-data/test.jsonl https://s3-eu-west-1.amazonaws.com/fever.public/paper_test.jsonl\n",
    "\n",
    "#To train the model for the shared task (the test set will be released in July 2018)\n",
    "wget -O data/fever-data/dev.jsonl https://s3-eu-west-1.amazonaws.com/fever.public/shared_task_dev.jsonl\n",
    "wget -O data/fever-data/test.jsonl https://s3-eu-west-1.amazonaws.com/fever.public/shared_task_test.jsonl"
   ]
  },
  {
   "cell_type": "code",
   "execution_count": 18,
   "metadata": {},
   "outputs": [
    {
     "data": {
      "text/plain": [
       "[{'content': ['Togoville_sentence_0',\n",
       "   'Togoville_cell_0_2_1',\n",
       "   'Togoville_cell_0_4_1'],\n",
       "  'context': {'Togoville_sentence_0': ['Togoville_title'],\n",
       "   'Togoville_cell_0_2_1': ['Togoville_title',\n",
       "    'Togoville_header_cell_0_2_0',\n",
       "    'Togoville_header_cell_0_0_0'],\n",
       "   'Togoville_cell_0_4_1': ['Togoville_title',\n",
       "    'Togoville_header_cell_0_4_0',\n",
       "    'Togoville_header_cell_0_3_0']}}]"
      ]
     },
     "execution_count": 18,
     "metadata": {},
     "output_type": "execute_result"
    }
   ],
   "source": [
    "df['evidence'][30]"
   ]
  },
  {
   "cell_type": "code",
   "execution_count": null,
   "metadata": {},
   "outputs": [],
   "source": []
  }
 ],
 "metadata": {
  "kernelspec": {
   "display_name": "ML env",
   "language": "python",
   "name": "env"
  },
  "language_info": {
   "codemirror_mode": {
    "name": "ipython",
    "version": 3
   },
   "file_extension": ".py",
   "mimetype": "text/x-python",
   "name": "python",
   "nbconvert_exporter": "python",
   "pygments_lexer": "ipython3",
   "version": "3.7.10"
  },
  "orig_nbformat": 4
 },
 "nbformat": 4,
 "nbformat_minor": 2
}
